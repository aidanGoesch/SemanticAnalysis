{
 "cells": [
  {
   "cell_type": "markdown",
   "metadata": {},
   "source": [
    "# Shuffle Analysis"
   ]
  },
  {
   "cell_type": "code",
   "execution_count": null,
   "metadata": {},
   "outputs": [],
   "source": [
    "import re\n",
    "import random\n",
    "from src.sequentiality import SequentialityModel"
   ]
  },
  {
   "cell_type": "code",
   "execution_count": 46,
   "metadata": {},
   "outputs": [],
   "source": [
    "def shuffle_sentence(sentence:str) -> str:\n",
    "    \"\"\"\n",
    "    Shuffles the words of a sentence\n",
    "    \"\"\"\n",
    "    sentence = re.sub(r'[^\\w\\s]', '', sentence)  # get rid of all punctuaton (i.e. none letter characters)\n",
    "    words = sentence.split()\n",
    "    # shuffle the words and add a period at the end\n",
    "    random.shuffle(words)\n",
    "    shuffled_sentence = \" \".join(words) + \".\"\n",
    "\n",
    "    return shuffled_sentence"
   ]
  },
  {
   "cell_type": "code",
   "execution_count": 47,
   "metadata": {},
   "outputs": [
    {
     "data": {
      "text/plain": [
       "'hello name Gary is my.'"
      ]
     },
     "execution_count": 47,
     "metadata": {},
     "output_type": "execute_result"
    }
   ],
   "source": [
    "shuffle_sentence(\"hello! my 'name', is Gary.\")"
   ]
  },
  {
   "cell_type": "code",
   "execution_count": 48,
   "metadata": {},
   "outputs": [],
   "source": [
    "def shuffle_text(text:str) -> str:\n",
    "    \"\"\"\n",
    "    Shuffles the order of sentences in a text\n",
    "    \"\"\"\n",
    "    sentences = re.split(r'(?<=[.!?])\\s+', text)\n",
    "    random.shuffle(sentences)\n",
    "\n",
    "    return \" \".join(sentences)"
   ]
  },
  {
   "cell_type": "code",
   "execution_count": 49,
   "metadata": {},
   "outputs": [
    {
     "data": {
      "text/plain": [
       "\"Maybe this will work, but who knows? I don't really know what to write here. Hello my name is Gary!\""
      ]
     },
     "execution_count": 49,
     "metadata": {},
     "output_type": "execute_result"
    }
   ],
   "source": [
    "text = \"Hello my name is Gary! I don't really know what to write here. Maybe this will work, but who knows?\"\n",
    "\n",
    "shuffle_text(text)"
   ]
  },
  {
   "cell_type": "code",
   "execution_count": null,
   "metadata": {},
   "outputs": [],
   "source": [
    "model = SequentialityModel(...)\n",
    "# TODO - I don't know what model / text / topic / history length you guys want to use"
   ]
  }
 ],
 "metadata": {
  "kernelspec": {
   "display_name": ".venv",
   "language": "python",
   "name": "python3"
  },
  "language_info": {
   "codemirror_mode": {
    "name": "ipython",
    "version": 3
   },
   "file_extension": ".py",
   "mimetype": "text/x-python",
   "name": "python",
   "nbconvert_exporter": "python",
   "pygments_lexer": "ipython3",
   "version": "3.12.3"
  }
 },
 "nbformat": 4,
 "nbformat_minor": 2
}
